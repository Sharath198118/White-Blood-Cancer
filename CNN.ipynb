{
  "nbformat": 4,
  "nbformat_minor": 0,
  "metadata": {
    "colab": {
      "name": "CNN.ipynb",
      "provenance": [],
      "collapsed_sections": [],
      "authorship_tag": "ABX9TyMVb9dVBJIiyFv/Eudm0z52",
      "include_colab_link": true
    },
    "kernelspec": {
      "name": "python3",
      "display_name": "Python 3"
    },
    "language_info": {
      "name": "python"
    }
  },
  "cells": [
    {
      "cell_type": "markdown",
      "metadata": {
        "id": "view-in-github",
        "colab_type": "text"
      },
      "source": [
        "<a href=\"https://colab.research.google.com/github/Sharath198118/White-Blood-Cancer/blob/main/CNN.ipynb\" target=\"_parent\"><img src=\"https://colab.research.google.com/assets/colab-badge.svg\" alt=\"Open In Colab\"/></a>"
      ]
    },
    {
      "cell_type": "code",
      "execution_count": null,
      "metadata": {
        "id": "m2t1oVwjqyby"
      },
      "outputs": [],
      "source": [
        "import numpy as np\n",
        "import pandas as pd"
      ]
    },
    {
      "cell_type": "code",
      "source": [
        "from google.colab import drive\n",
        "drive.mount('/content/drive')"
      ],
      "metadata": {
        "colab": {
          "base_uri": "https://localhost:8080/"
        },
        "id": "eILc0fGaqz_p",
        "outputId": "cde37f5d-f70c-4bb5-ad46-55ba2a36414f"
      },
      "execution_count": null,
      "outputs": [
        {
          "output_type": "stream",
          "name": "stdout",
          "text": [
            "Mounted at /content/drive\n"
          ]
        }
      ]
    },
    {
      "cell_type": "code",
      "source": [
        "import os"
      ],
      "metadata": {
        "id": "On5Hr6ywq2Qy"
      },
      "execution_count": null,
      "outputs": []
    },
    {
      "cell_type": "code",
      "source": [
        "print(len(os.listdir('/content/drive/MyDrive/Data/ALL')))\n",
        "print(len(os.listdir('/content/drive/MyDrive/Data/MM')))"
      ],
      "metadata": {
        "colab": {
          "base_uri": "https://localhost:8080/"
        },
        "id": "us3Fsrbzq2Vv",
        "outputId": "97d527a0-46f0-4edf-a5c3-2deba6473f76"
      },
      "execution_count": null,
      "outputs": [
        {
          "output_type": "stream",
          "name": "stdout",
          "text": [
            "190\n",
            "214\n"
          ]
        }
      ]
    },
    {
      "cell_type": "code",
      "source": [
        "import numpy as np\n",
        "import matplotlib.pyplot as plt\n",
        "import keras\n",
        "from keras.layers import Conv2D , MaxPool2D , Flatten , Dropout, Dense, Activation, BatchNormalization\n",
        "from tensorflow.keras.optimizers import Adam, RMSprop, SGD\n",
        "from sklearn.metrics import classification_report,confusion_matrix\n",
        "import seaborn as sns\n",
        "from keras.preprocessing.image import ImageDataGenerator\n",
        "import tensorflow as tf\n",
        "from keras.models import Sequential, load_model\n",
        "import random\n",
        "import shutil\n",
        "from tqdm import tqdm\n",
        "from tensorflow.keras.preprocessing.image import ImageDataGenerator\n",
        "from keras.callbacks import EarlyStopping, ModelCheckpoint"
      ],
      "metadata": {
        "id": "No0OZ5srq2dA"
      },
      "execution_count": null,
      "outputs": []
    },
    {
      "cell_type": "code",
      "source": [
        "os.mkdir(\"main_data\")\n",
        "os.mkdir('main_data/train')\n",
        "os.mkdir(\"main_data/test\")\n",
        "os.mkdir('main_data/val')"
      ],
      "metadata": {
        "id": "ZsEe6t8Dq2j1"
      },
      "execution_count": null,
      "outputs": []
    },
    {
      "cell_type": "code",
      "source": [
        "os.mkdir('main_data/train/ALL')\n",
        "os.mkdir('main_data/train/MM')\n",
        "os.mkdir('main_data/test/ALL')\n",
        "os.mkdir('main_data/test/MM')\n",
        "os.mkdir('main_data/val/ALL')\n",
        "os.mkdir('main_data/val/MM')"
      ],
      "metadata": {
        "id": "VoTpUpDYq2pN"
      },
      "execution_count": null,
      "outputs": []
    },
    {
      "cell_type": "code",
      "source": [
        "from glob import glob  #glob (short for global) is used to return all file paths that match a specific pattern."
      ],
      "metadata": {
        "id": "lXwOoZhCq2wF"
      },
      "execution_count": null,
      "outputs": []
    },
    {
      "cell_type": "code",
      "source": [
        "files_1=['ALL']\n",
        "files_2=['MM']"
      ],
      "metadata": {
        "id": "_1_g5eX7q22I"
      },
      "execution_count": null,
      "outputs": []
    },
    {
      "cell_type": "code",
      "source": [
        "for f in files_1:\n",
        "  f_names_1 = '/content/drive/MyDrive/Data/' + f + '/*.jpg'\n",
        "  print(f_names_1)\n",
        "  f_names_1 = glob(f_names_1)\n",
        "  total_samples_1 = len(f_names_1)\n",
        "\n",
        "  print(total_samples_1)"
      ],
      "metadata": {
        "colab": {
          "base_uri": "https://localhost:8080/"
        },
        "id": "GkOkkbz5rX4S",
        "outputId": "7b499f5f-7b9a-44f9-a71d-4d47e3af724c"
      },
      "execution_count": null,
      "outputs": [
        {
          "output_type": "stream",
          "name": "stdout",
          "text": [
            "/content/drive/MyDrive/Data/ALL/*.jpg\n",
            "190\n"
          ]
        }
      ]
    },
    {
      "cell_type": "code",
      "source": [
        "for f in files_2:\n",
        "  f_names_2 = '/content/drive/MyDrive/Data/' + f + '/*.jpg'\n",
        "  print(f_names_2)\n",
        "  f_names_2 = glob(f_names_2)\n",
        "  total_samples_2 = len(f_names_2)\n",
        "\n",
        "  print(total_samples_2)"
      ],
      "metadata": {
        "colab": {
          "base_uri": "https://localhost:8080/"
        },
        "id": "SQ3vxrcCrYGJ",
        "outputId": "97f45016-a766-46bc-cfbf-13b10a2fe37a"
      },
      "execution_count": null,
      "outputs": [
        {
          "output_type": "stream",
          "name": "stdout",
          "text": [
            "/content/drive/MyDrive/Data/MM/*.jpg\n",
            "214\n"
          ]
        }
      ]
    },
    {
      "cell_type": "code",
      "source": [
        "for f in files_1:\n",
        "\n",
        "  train_sam_1, test_sam_1, val_sam_1 = total_samples_1 * 0.70, total_samples_1 * 0.15, total_samples_1 * 0.15\n",
        "\n",
        "  train_sam_1, test_sam_1, val_sam_1 =  f_names_1[0: int(train_sam_1)] , f_names_1[int(train_sam_1): int(train_sam_1) + int(test_sam_1)], f_names_1[ int(train_sam_1) + int(test_sam_1):  int(train_sam_1) + (2 *int(test_sam_1))]"
      ],
      "metadata": {
        "id": "kXqhhCUhrYUW"
      },
      "execution_count": null,
      "outputs": []
    },
    {
      "cell_type": "code",
      "source": [
        "for f in files_2:\n",
        "\n",
        "  train_sam_2, test_sam_2, val_sam_2 = total_samples_2 * 0.70, total_samples_2 * 0.15, total_samples_2 * 0.15\n",
        "\n",
        "  train_sam_2, test_sam_2, val_sam_2 =  f_names_2[0: int(train_sam_2)] , f_names_2[int(train_sam_2): int(train_sam_2) + int(test_sam_2)], f_names_2[ int(train_sam_2) + int(test_sam_2):  int(train_sam_2) + (2 *int(test_sam_2))]\n",
        "  "
      ],
      "metadata": {
        "id": "FmHq-MvvrYhL"
      },
      "execution_count": null,
      "outputs": []
    },
    {
      "cell_type": "code",
      "source": [
        "a=len(train_sam_1)\n",
        "print(a)\n",
        "b=len(test_sam_1)\n",
        "print(b)\n",
        "c=len(val_sam_1)\n",
        "print(c)"
      ],
      "metadata": {
        "colab": {
          "base_uri": "https://localhost:8080/"
        },
        "id": "uGzWqOGcrp6W",
        "outputId": "8b71b2c6-7e46-4933-d5d1-632287c55796"
      },
      "execution_count": null,
      "outputs": [
        {
          "output_type": "stream",
          "name": "stdout",
          "text": [
            "133\n",
            "28\n",
            "28\n"
          ]
        }
      ]
    },
    {
      "cell_type": "code",
      "source": [
        "d=len(train_sam_2)\n",
        "print(d)\n",
        "e=len(test_sam_2)\n",
        "print(e)\n",
        "f=len(val_sam_2)\n",
        "print(f)"
      ],
      "metadata": {
        "colab": {
          "base_uri": "https://localhost:8080/"
        },
        "id": "EEzjd49trqAz",
        "outputId": "7f254025-932b-4f3c-82a1-e2dc7d41a9c0"
      },
      "execution_count": null,
      "outputs": [
        {
          "output_type": "stream",
          "name": "stdout",
          "text": [
            "149\n",
            "32\n",
            "32\n"
          ]
        }
      ]
    },
    {
      "cell_type": "code",
      "source": [
        "destination_dir_train_1='/content/main_data/train/ALL'\n",
        "destination_dir_test_1='/content/main_data/test/ALL'\n",
        "destination_dir_val_1='/content/main_data/val/ALL'"
      ],
      "metadata": {
        "id": "Ap27Dj-zrqGK"
      },
      "execution_count": null,
      "outputs": []
    },
    {
      "cell_type": "code",
      "source": [
        "destination_dir_train_2='/content/main_data/train/MM'\n",
        "destination_dir_test_2='/content/main_data/test/MM'\n",
        "destination_dir_val_2='/content/main_data/val/MM'"
      ],
      "metadata": {
        "id": "btMMRBhQrqL2"
      },
      "execution_count": null,
      "outputs": []
    },
    {
      "cell_type": "code",
      "source": [
        "for i in range(a):\n",
        "  current_1=train_sam_1[i]\n",
        "  shutil.copy(current_1,destination_dir_train_1)\n",
        "for i in range(b):\n",
        "  current_2=test_sam_1[i]\n",
        "  shutil.copy(current_2,destination_dir_test_1)\n",
        "for i in range(c):\n",
        "  current_3=val_sam_1[i]\n",
        "  shutil.copy(current_3,destination_dir_val_1)"
      ],
      "metadata": {
        "id": "6N2Gv7R_rqSE"
      },
      "execution_count": null,
      "outputs": []
    },
    {
      "cell_type": "code",
      "source": [
        "for i in range(d):\n",
        "  current_4=train_sam_2[i]\n",
        "  shutil.copy(current_4,destination_dir_train_2)\n",
        "for i in range(e):\n",
        "  current_5=test_sam_2[i]\n",
        "  shutil.copy(current_5,destination_dir_test_2)\n",
        "for i in range(f):\n",
        "  current_6=val_sam_2[i]\n",
        "  shutil.copy(current_6,destination_dir_val_2)"
      ],
      "metadata": {
        "id": "XS4v-kdvrqYk"
      },
      "execution_count": null,
      "outputs": []
    },
    {
      "cell_type": "code",
      "source": [
        "print(len(os.listdir(destination_dir_train_1)))\n",
        "print(len(os.listdir(destination_dir_test_1)))\n",
        "print(len(os.listdir(destination_dir_val_1)))"
      ],
      "metadata": {
        "colab": {
          "base_uri": "https://localhost:8080/"
        },
        "id": "V3TDOIaTr4ky",
        "outputId": "f58a26d9-99d5-460e-f27d-a9fae4a466b2"
      },
      "execution_count": null,
      "outputs": [
        {
          "output_type": "stream",
          "name": "stdout",
          "text": [
            "133\n",
            "28\n",
            "28\n"
          ]
        }
      ]
    },
    {
      "cell_type": "code",
      "source": [
        "print(len(os.listdir(destination_dir_train_2)))\n",
        "print(len(os.listdir(destination_dir_test_2)))\n",
        "print(len(os.listdir(destination_dir_val_2)))"
      ],
      "metadata": {
        "colab": {
          "base_uri": "https://localhost:8080/"
        },
        "id": "vYhaVpCLr4rf",
        "outputId": "22647a1d-c4d8-41ca-fcee-dbf317362937"
      },
      "execution_count": null,
      "outputs": [
        {
          "output_type": "stream",
          "name": "stdout",
          "text": [
            "149\n",
            "32\n",
            "32\n"
          ]
        }
      ]
    },
    {
      "cell_type": "code",
      "source": [
        "import tensorflow.keras as K"
      ],
      "metadata": {
        "id": "4K_0EfRer4xX"
      },
      "execution_count": null,
      "outputs": []
    },
    {
      "cell_type": "code",
      "source": [
        "input_image_shape=(224,224,3)\n",
        "train_batch_size=32"
      ],
      "metadata": {
        "id": "jLG1Db0Wr43S"
      },
      "execution_count": null,
      "outputs": []
    },
    {
      "cell_type": "code",
      "source": [
        "import pandas as pd\n",
        "import os\n",
        "from skimage.transform import resize\n",
        "from skimage.io import imread\n",
        "import numpy as np\n",
        "import matplotlib.pyplot as plt\n",
        "\n",
        "\n",
        "Categories=[\"ALL\",\"MM\"]\n",
        "flat_data_arr=[] #input array\n",
        "target_arr=[] #output array\n",
        "datadir='/content/drive/MyDrive/Data/'\n",
        "\n",
        "#path which contains all the categories of images\n",
        "for i in Categories:\n",
        "    \n",
        "    print(f'loading... category : {i}')\n",
        "    path=os.path.join(datadir,i)\n",
        "    \n",
        "    for img in os.listdir(path):\n",
        "        \n",
        "        img_array=imread(os.path.join(path,img))\n",
        "        img_resized=resize(img_array,(150,150,3))\n",
        "        \n",
        "        flat_data_arr.append(img_resized.flatten())\n",
        "        target_arr.append(Categories.index(i))\n",
        "        \n",
        "    print(f'loaded category:{i} successfully')\n",
        "flat_data=np.array(flat_data_arr)\n",
        "target=np.array(target_arr)\n",
        "df=pd.DataFrame(flat_data) #dataframe\n",
        "df['Target']=target\n",
        "x=df.iloc[:,:-1] #input data \n",
        "y=df.iloc[:,-1] #output datas.index(i))\n"
      ],
      "metadata": {
        "colab": {
          "base_uri": "https://localhost:8080/"
        },
        "id": "5oPV4kq8_hRm",
        "outputId": "8decbeea-737e-4251-cca1-f0e5338df8d6"
      },
      "execution_count": null,
      "outputs": [
        {
          "output_type": "stream",
          "name": "stdout",
          "text": [
            "loading... category : ALL\n",
            "loaded category:ALL successfully\n",
            "loading... category : MM\n",
            "loaded category:MM successfully\n"
          ]
        }
      ]
    },
    {
      "cell_type": "code",
      "source": [
        "from sklearn.feature_selection import chi2\n",
        "from sklearn.feature_selection import SelectKBest\n",
        "from sklearn.model_selection import train_test_split\n",
        "model=SelectKBest(score_func=chi2, k=4)\n",
        "fit=model.fit(x,y)"
      ],
      "metadata": {
        "id": "UxnZ0INj_rcm"
      },
      "execution_count": null,
      "outputs": []
    },
    {
      "cell_type": "code",
      "source": [
        "train_datagen = ImageDataGenerator(rescale=1./255)\n",
        "\n",
        "train_datagen = ImageDataGenerator(rescale=1./255,\n",
        "                                        height_shift_range=0,\n",
        "                                        width_shift_range=0,\n",
        "                                        horizontal_flip=True,\n",
        "                                        zoom_range=0,\n",
        "                                        fill_mode=\"nearest\")\n",
        "\n",
        "\n",
        "val_datagen = ImageDataGenerator(rescale=1./255)\n",
        "\n",
        "test_datagen = ImageDataGenerator(rescale=1./255)\n",
        "\n",
        "train_generator = train_datagen.flow_from_directory(\n",
        "        '/content/main_data/train',\n",
        "        target_size=input_image_shape[:2],\n",
        "        color_mode=\"rgb\",\n",
        "        batch_size=train_batch_size,\n",
        "        class_mode='categorical',\n",
        "        shuffle=True,\n",
        "        seed=42)\n",
        "\n",
        "    # batch_size for validation and test generator should perfectly divide the total number of examples\n",
        "validation_generator = val_datagen.flow_from_directory(\n",
        "        '/content/main_data/val',\n",
        "        target_size=input_image_shape[:2],\n",
        "        color_mode=\"rgb\",\n",
        "        batch_size=100,\n",
        "        class_mode='categorical',\n",
        "        shuffle=True,\n",
        "        seed=42)\n",
        "\n",
        "test_generator = test_datagen.flow_from_directory(\n",
        "        '/content/main_data/test',\n",
        "        target_size=input_image_shape[:2],\n",
        "        color_mode=\"rgb\",\n",
        "        batch_size=100,\n",
        "        class_mode='categorical',\n",
        "        shuffle=False,\n",
        "        seed=42)\n",
        "    "
      ],
      "metadata": {
        "colab": {
          "base_uri": "https://localhost:8080/"
        },
        "id": "19Qg5Vmyr49i",
        "outputId": "a08cff77-f167-49a3-b7ce-4eb083117b0f"
      },
      "execution_count": null,
      "outputs": [
        {
          "output_type": "stream",
          "name": "stdout",
          "text": [
            "Found 282 images belonging to 2 classes.\n",
            "Found 60 images belonging to 2 classes.\n",
            "Found 60 images belonging to 2 classes.\n"
          ]
        }
      ]
    },
    {
      "cell_type": "code",
      "source": [
        "from tensorflow.keras.applications.vgg16 import VGG16\n",
        "\n",
        "base_model = VGG16(input_shape = (224, 224, 3), # Shape of our images\n",
        "include_top = False, # Leave out the last fully connected layer\n",
        "weights = 'imagenet')\n",
        "\n",
        "for layer in base_model.layers:\n",
        "    layer.trainable = False\n",
        "import tensorflow as tf\n",
        "\n",
        "from tensorflow.keras import layers\n",
        "\n",
        "x = layers.Flatten()(base_model.output)\n",
        "\n",
        "# Add a fully connected layer with 512 hidden units and ReLU activation\n",
        "x = layers.Dense(512, activation='relu')(x)\n",
        "\n",
        "# Add a dropout rate of 0.5\n",
        "x = layers.Dropout(0.5)(x)\n",
        "\n",
        "# Add a final sigmoid layer with 1 node for classification output\n",
        "x = layers.Dense(2, activation='sigmoid')(x)\n",
        "\n",
        "modelv16 = tf.keras.models.Model(base_model.input, x)\n",
        "\n",
        "modelv16.compile(optimizer = 'adam', loss = 'categorical_crossentropy',metrics = ['acc',])\n",
        "modelv16.summary()"
      ],
      "metadata": {
        "colab": {
          "base_uri": "https://localhost:8080/"
        },
        "id": "HWN1OeNKr5DJ",
        "outputId": "0bd17c64-a29c-43de-e14c-86bd9a2750fa"
      },
      "execution_count": null,
      "outputs": [
        {
          "output_type": "stream",
          "name": "stdout",
          "text": [
            "Downloading data from https://storage.googleapis.com/tensorflow/keras-applications/vgg16/vgg16_weights_tf_dim_ordering_tf_kernels_notop.h5\n",
            "58892288/58889256 [==============================] - 0s 0us/step\n",
            "58900480/58889256 [==============================] - 0s 0us/step\n",
            "Model: \"model\"\n",
            "_________________________________________________________________\n",
            " Layer (type)                Output Shape              Param #   \n",
            "=================================================================\n",
            " input_1 (InputLayer)        [(None, 224, 224, 3)]     0         \n",
            "                                                                 \n",
            " block1_conv1 (Conv2D)       (None, 224, 224, 64)      1792      \n",
            "                                                                 \n",
            " block1_conv2 (Conv2D)       (None, 224, 224, 64)      36928     \n",
            "                                                                 \n",
            " block1_pool (MaxPooling2D)  (None, 112, 112, 64)      0         \n",
            "                                                                 \n",
            " block2_conv1 (Conv2D)       (None, 112, 112, 128)     73856     \n",
            "                                                                 \n",
            " block2_conv2 (Conv2D)       (None, 112, 112, 128)     147584    \n",
            "                                                                 \n",
            " block2_pool (MaxPooling2D)  (None, 56, 56, 128)       0         \n",
            "                                                                 \n",
            " block3_conv1 (Conv2D)       (None, 56, 56, 256)       295168    \n",
            "                                                                 \n",
            " block3_conv2 (Conv2D)       (None, 56, 56, 256)       590080    \n",
            "                                                                 \n",
            " block3_conv3 (Conv2D)       (None, 56, 56, 256)       590080    \n",
            "                                                                 \n",
            " block3_pool (MaxPooling2D)  (None, 28, 28, 256)       0         \n",
            "                                                                 \n",
            " block4_conv1 (Conv2D)       (None, 28, 28, 512)       1180160   \n",
            "                                                                 \n",
            " block4_conv2 (Conv2D)       (None, 28, 28, 512)       2359808   \n",
            "                                                                 \n",
            " block4_conv3 (Conv2D)       (None, 28, 28, 512)       2359808   \n",
            "                                                                 \n",
            " block4_pool (MaxPooling2D)  (None, 14, 14, 512)       0         \n",
            "                                                                 \n",
            " block5_conv1 (Conv2D)       (None, 14, 14, 512)       2359808   \n",
            "                                                                 \n",
            " block5_conv2 (Conv2D)       (None, 14, 14, 512)       2359808   \n",
            "                                                                 \n",
            " block5_conv3 (Conv2D)       (None, 14, 14, 512)       2359808   \n",
            "                                                                 \n",
            " block5_pool (MaxPooling2D)  (None, 7, 7, 512)         0         \n",
            "                                                                 \n",
            " flatten (Flatten)           (None, 25088)             0         \n",
            "                                                                 \n",
            " dense (Dense)               (None, 512)               12845568  \n",
            "                                                                 \n",
            " dropout (Dropout)           (None, 512)               0         \n",
            "                                                                 \n",
            " dense_1 (Dense)             (None, 2)                 1026      \n",
            "                                                                 \n",
            "=================================================================\n",
            "Total params: 27,561,282\n",
            "Trainable params: 12,846,594\n",
            "Non-trainable params: 14,714,688\n",
            "_________________________________________________________________\n"
          ]
        }
      ]
    },
    {
      "cell_type": "code",
      "source": [
        "TRAIN_STEP_SIZE = train_generator.n//train_generator.batch_size\n",
        "VALIDATION_STEP_SIZE = validation_generator.n//validation_generator.batch_size"
      ],
      "metadata": {
        "id": "Nm0L80iqr5Me"
      },
      "execution_count": null,
      "outputs": []
    },
    {
      "cell_type": "code",
      "source": [
        " # Early Stopping callback\n",
        "earlyStopping = EarlyStopping(monitor='val_accuracy', patience=10, verbose=0, mode='min')\n",
        "\n",
        "  # To save the model with best validation accuracy\n",
        "mc = ModelCheckpoint('best_model.h5', monitor='val_accuracy', mode='max', verbose=0, save_best_only=True)"
      ],
      "metadata": {
        "id": "l0VFXeVWr5R3"
      },
      "execution_count": null,
      "outputs": []
    },
    {
      "cell_type": "code",
      "source": [
        "history = modelv16.fit(train_generator,\n",
        "                    steps_per_epoch = TRAIN_STEP_SIZE,\n",
        "                    validation_data = validation_generator,\n",
        "                    validation_steps = VALIDATION_STEP_SIZE,\n",
        "                    epochs=5, \n",
        "                    callbacks=[earlyStopping, mc],\n",
        "                    verbose=2)"
      ],
      "metadata": {
        "colab": {
          "base_uri": "https://localhost:8080/"
        },
        "id": "XboE3QLCsXdH",
        "outputId": "bb5755e4-2dc7-49df-aeff-2dbbfd01ad2f"
      },
      "execution_count": null,
      "outputs": [
        {
          "output_type": "stream",
          "name": "stdout",
          "text": [
            "Epoch 1/5\n",
            "WARNING:tensorflow:Early stopping conditioned on metric `val_accuracy` which is not available. Available metrics are: loss,acc\n",
            "WARNING:tensorflow:Can save best model only with val_accuracy available, skipping.\n",
            "8/8 - 145s - loss: 1.5868 - acc: 0.6172 - 145s/epoch - 18s/step\n",
            "Epoch 2/5\n",
            "WARNING:tensorflow:Early stopping conditioned on metric `val_accuracy` which is not available. Available metrics are: loss,acc\n",
            "WARNING:tensorflow:Can save best model only with val_accuracy available, skipping.\n",
            "8/8 - 133s - loss: 1.8716 - acc: 0.6200 - 133s/epoch - 17s/step\n",
            "Epoch 3/5\n",
            "WARNING:tensorflow:Early stopping conditioned on metric `val_accuracy` which is not available. Available metrics are: loss,acc\n",
            "WARNING:tensorflow:Can save best model only with val_accuracy available, skipping.\n",
            "8/8 - 138s - loss: 0.9097 - acc: 0.6960 - 138s/epoch - 17s/step\n",
            "Epoch 4/5\n",
            "WARNING:tensorflow:Early stopping conditioned on metric `val_accuracy` which is not available. Available metrics are: loss,acc\n",
            "WARNING:tensorflow:Can save best model only with val_accuracy available, skipping.\n",
            "8/8 - 133s - loss: 0.6366 - acc: 0.7360 - 133s/epoch - 17s/step\n",
            "Epoch 5/5\n",
            "WARNING:tensorflow:Early stopping conditioned on metric `val_accuracy` which is not available. Available metrics are: loss,acc\n",
            "WARNING:tensorflow:Can save best model only with val_accuracy available, skipping.\n",
            "8/8 - 138s - loss: 0.5740 - acc: 0.7617 - 138s/epoch - 17s/step\n"
          ]
        }
      ]
    },
    {
      "cell_type": "code",
      "source": [
        "pre_train_model = \"Xception\"#change here to change model for wandb sweeps\n",
        "activation_function_dense = \"relu\"#set as default"
      ],
      "metadata": {
        "id": "LXL2FPnLsXoj"
      },
      "execution_count": null,
      "outputs": []
    },
    {
      "cell_type": "code",
      "source": [
        "pr=modelv16.evaluate(test_generator)"
      ],
      "metadata": {
        "colab": {
          "base_uri": "https://localhost:8080/"
        },
        "id": "lBqmtGImsXzx",
        "outputId": "7ae82c37-66fd-4e40-b269-ffb1653d6963"
      },
      "execution_count": null,
      "outputs": [
        {
          "output_type": "stream",
          "name": "stdout",
          "text": [
            "1/1 [==============================] - 35s 35s/step - loss: 0.0428 - acc: 0.9833\n"
          ]
        }
      ]
    },
    {
      "cell_type": "code",
      "source": [
        "print(pr)"
      ],
      "metadata": {
        "id": "rNUhZZ2xsiSk",
        "colab": {
          "base_uri": "https://localhost:8080/"
        },
        "outputId": "fecd7b2c-655b-4a46-8d96-e34b00f38cfd"
      },
      "execution_count": null,
      "outputs": [
        {
          "output_type": "stream",
          "name": "stdout",
          "text": [
            "[0.042791493237018585, 0.9833333492279053]\n"
          ]
        }
      ]
    },
    {
      "cell_type": "code",
      "source": [
        "plt.plot(history.history['loss'])\n",
        "\n",
        "plt.title('model loss')\n",
        "plt.ylabel('loss')\n",
        "plt.xlabel('epoch')\n",
        "plt.legend(['Train', 'Val'], loc='upper left')\n",
        "plt.show()"
      ],
      "metadata": {
        "id": "fiE9-WxK4Dk6",
        "colab": {
          "base_uri": "https://localhost:8080/",
          "height": 295
        },
        "outputId": "93c04ddd-9dc9-4c3c-b3d8-b739d1c2269a"
      },
      "execution_count": null,
      "outputs": [
        {
          "output_type": "display_data",
          "data": {
            "text/plain": [
              "<Figure size 432x288 with 1 Axes>"
            ],
            "image/png": "[encoded data removed]"
          },
          "metadata": {
            "needs_background": "light"
          }
        }
      ]
    },
    {
      "cell_type": "code",
      "source": [
        "plt.plot(history.history['acc'])\n",
        "plt.ylabel('Accuracy')\n",
        "plt.xlabel('epoch')\n",
        "plt.show()"
      ],
      "metadata": {
        "id": "71Qsh-l-4IzQ",
        "colab": {
          "base_uri": "https://localhost:8080/",
          "height": 279
        },
        "outputId": "270f1a48-b566-4d61-8f5f-62c89e384a8a"
      },
      "execution_count": null,
      "outputs": [
        {
          "output_type": "display_data",
          "data": {
            "text/plain": [
              "<Figure size 432x288 with 1 Axes>"
            ],
            "image/png": "[encoded data removed]"
          },
          "metadata": {
            "needs_background": "light"
          }
        }
      ]
    }
  ]
}