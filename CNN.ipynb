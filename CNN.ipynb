{
  "nbformat": 4,
  "nbformat_minor": 0,
  "metadata": {
    "colab": {
      "name": "CNN.ipynb",
      "provenance": [],
      "authorship_tag": "ABX9TyMBHHS9i1XtOVmxWKawMINF",
      "include_colab_link": true
    },
    "kernelspec": {
      "name": "python3",
      "display_name": "Python 3"
    },
    "language_info": {
      "name": "python"
    }
  },
  "cells": [
    {
      "cell_type": "markdown",
      "metadata": {
        "id": "view-in-github",
        "colab_type": "text"
      },
      "source": [
        "<a href=\"https://colab.research.google.com/github/Sharath198118/White-Blood-Cancer/blob/main/CNN.ipynb\" target=\"_parent\"><img src=\"https://colab.research.google.com/assets/colab-badge.svg\" alt=\"Open In Colab\"/></a>"
      ]
    },
    {
      "cell_type": "code",
      "execution_count": 4,
      "metadata": {
        "id": "m2t1oVwjqyby"
      },
      "outputs": [],
      "source": [
        "import numpy as np\n",
        "import pandas as pd"
      ]
    },
    {
      "cell_type": "code",
      "source": [
        "from google.colab import drive\n",
        "drive.mount('/content/drive')"
      ],
      "metadata": {
        "colab": {
          "base_uri": "https://localhost:8080/"
        },
        "id": "eILc0fGaqz_p",
        "outputId": "1f55834c-8346-414f-eebc-d7b66997b654"
      },
      "execution_count": 5,
      "outputs": [
        {
          "output_type": "stream",
          "name": "stdout",
          "text": [
            "Mounted at /content/drive\n"
          ]
        }
      ]
    },
    {
      "cell_type": "code",
      "source": [
        "import os"
      ],
      "metadata": {
        "id": "On5Hr6ywq2Qy"
      },
      "execution_count": 6,
      "outputs": []
    },
    {
      "cell_type": "code",
      "source": [
        "print(len(os.listdir('/content/drive/MyDrive/Data/ALL')))\n",
        "print(len(os.listdir('/content/drive/MyDrive/Data/MM')))"
      ],
      "metadata": {
        "colab": {
          "base_uri": "https://localhost:8080/"
        },
        "id": "us3Fsrbzq2Vv",
        "outputId": "c94fa05a-5ceb-406e-ee4b-0cc64f06f834"
      },
      "execution_count": 8,
      "outputs": [
        {
          "output_type": "stream",
          "name": "stdout",
          "text": [
            "190\n",
            "214\n"
          ]
        }
      ]
    },
    {
      "cell_type": "code",
      "source": [
        "import numpy as np\n",
        "import matplotlib.pyplot as plt\n",
        "import keras\n",
        "from keras.layers import Conv2D , MaxPool2D , Flatten , Dropout, Dense, Activation, BatchNormalization\n",
        "from tensorflow.keras.optimizers import Adam, RMSprop, SGD\n",
        "from sklearn.metrics import classification_report,confusion_matrix\n",
        "import seaborn as sns\n",
        "from keras.preprocessing.image import ImageDataGenerator\n",
        "import tensorflow as tf\n",
        "from keras.models import Sequential, load_model\n",
        "import random\n",
        "import shutil\n",
        "from tqdm import tqdm\n",
        "from tensorflow.keras.preprocessing.image import ImageDataGenerator\n",
        "from keras.callbacks import EarlyStopping, ModelCheckpoint"
      ],
      "metadata": {
        "id": "No0OZ5srq2dA"
      },
      "execution_count": 9,
      "outputs": []
    },
    {
      "cell_type": "code",
      "source": [
        "os.mkdir(\"main_data\")\n",
        "os.mkdir('main_data/train')\n",
        "os.mkdir(\"main_data/test\")\n",
        "os.mkdir('main_data/val')"
      ],
      "metadata": {
        "id": "ZsEe6t8Dq2j1"
      },
      "execution_count": 10,
      "outputs": []
    },
    {
      "cell_type": "code",
      "source": [
        "os.mkdir('main_data/train/ALL')\n",
        "os.mkdir('main_data/train/MM')\n",
        "os.mkdir('main_data/test/ALL')\n",
        "os.mkdir('main_data/test/MM')\n",
        "os.mkdir('main_data/val/ALL')\n",
        "os.mkdir('main_data/val/MM')"
      ],
      "metadata": {
        "id": "VoTpUpDYq2pN"
      },
      "execution_count": 11,
      "outputs": []
    },
    {
      "cell_type": "code",
      "source": [
        "from glob import glob"
      ],
      "metadata": {
        "id": "lXwOoZhCq2wF"
      },
      "execution_count": 12,
      "outputs": []
    },
    {
      "cell_type": "code",
      "source": [
        "files_1=['ALL']\n",
        "files_2=['MM']"
      ],
      "metadata": {
        "id": "_1_g5eX7q22I"
      },
      "execution_count": 13,
      "outputs": []
    },
    {
      "cell_type": "code",
      "source": [
        "for f in files_1:\n",
        "  f_names_1 = '/content/drive/MyDrive/Data/' + f + '/*.jpg'\n",
        "  print(f_names_1)\n",
        "  f_names_1 = glob(f_names_1)\n",
        "  total_samples_1 = len(f_names_1)\n",
        "\n",
        "  print(total_samples_1)"
      ],
      "metadata": {
        "colab": {
          "base_uri": "https://localhost:8080/"
        },
        "id": "GkOkkbz5rX4S",
        "outputId": "c10fed75-859a-40d7-cbf5-792bfef90173"
      },
      "execution_count": 15,
      "outputs": [
        {
          "output_type": "stream",
          "name": "stdout",
          "text": [
            "/content/drive/MyDrive/Data/ALL/*.jpg\n",
            "190\n"
          ]
        }
      ]
    },
    {
      "cell_type": "code",
      "source": [
        "for f in files_2:\n",
        "  f_names_2 = '/content/drive/MyDrive/Data/' + f + '/*.jpg'\n",
        "  print(f_names_2)\n",
        "  f_names_2 = glob(f_names_2)\n",
        "  total_samples_2 = len(f_names_2)\n",
        "\n",
        "  print(total_samples_2)"
      ],
      "metadata": {
        "colab": {
          "base_uri": "https://localhost:8080/"
        },
        "id": "SQ3vxrcCrYGJ",
        "outputId": "f4623766-b3ad-48b5-c114-096befda1a11"
      },
      "execution_count": 16,
      "outputs": [
        {
          "output_type": "stream",
          "name": "stdout",
          "text": [
            "/content/drive/MyDrive/Data/MM/*.jpg\n",
            "214\n"
          ]
        }
      ]
    },
    {
      "cell_type": "code",
      "source": [
        "for f in files_1:\n",
        "\n",
        "  train_sam_1, test_sam_1, val_sam_1 = total_samples_1 * 0.70, total_samples_1 * 0.15, total_samples_1 * 0.15\n",
        "\n",
        "  train_sam_1, test_sam_1, val_sam_1 =  f_names_1[0: int(train_sam_1)] , f_names_1[int(train_sam_1): int(train_sam_1) + int(test_sam_1)], f_names_1[ int(train_sam_1) + int(test_sam_1):  int(train_sam_1) + (2 *int(test_sam_1))]"
      ],
      "metadata": {
        "id": "kXqhhCUhrYUW"
      },
      "execution_count": 17,
      "outputs": []
    },
    {
      "cell_type": "code",
      "source": [
        "for f in files_2:\n",
        "\n",
        "  train_sam_2, test_sam_2, val_sam_2 = total_samples_2 * 0.70, total_samples_2 * 0.15, total_samples_2 * 0.15\n",
        "\n",
        "  train_sam_2, test_sam_2, val_sam_2 =  f_names_2[0: int(train_sam_2)] , f_names_2[int(train_sam_2): int(train_sam_2) + int(test_sam_2)], f_names_2[ int(train_sam_2) + int(test_sam_2):  int(train_sam_2) + (2 *int(test_sam_2))]\n",
        "  "
      ],
      "metadata": {
        "id": "FmHq-MvvrYhL"
      },
      "execution_count": 18,
      "outputs": []
    },
    {
      "cell_type": "code",
      "source": [
        "a=len(train_sam_1)\n",
        "print(a)\n",
        "b=len(test_sam_1)\n",
        "print(b)\n",
        "c=len(val_sam_1)\n",
        "print(c)"
      ],
      "metadata": {
        "colab": {
          "base_uri": "https://localhost:8080/"
        },
        "id": "uGzWqOGcrp6W",
        "outputId": "3f34367f-dcdd-4737-d701-1f1351bab6b2"
      },
      "execution_count": 19,
      "outputs": [
        {
          "output_type": "stream",
          "name": "stdout",
          "text": [
            "133\n",
            "28\n",
            "28\n"
          ]
        }
      ]
    },
    {
      "cell_type": "code",
      "source": [
        "d=len(train_sam_2)\n",
        "print(d)\n",
        "e=len(test_sam_2)\n",
        "print(e)\n",
        "f=len(val_sam_2)\n",
        "print(f)"
      ],
      "metadata": {
        "colab": {
          "base_uri": "https://localhost:8080/"
        },
        "id": "EEzjd49trqAz",
        "outputId": "63a0b404-17de-4bf3-de58-63872342186c"
      },
      "execution_count": 20,
      "outputs": [
        {
          "output_type": "stream",
          "name": "stdout",
          "text": [
            "149\n",
            "32\n",
            "32\n"
          ]
        }
      ]
    },
    {
      "cell_type": "code",
      "source": [
        "destination_dir_train_1='/content/main_data/train/ALL'\n",
        "destination_dir_test_1='/content/main_data/test/ALL'\n",
        "destination_dir_val_1='/content/main_data/val/ALL'"
      ],
      "metadata": {
        "id": "Ap27Dj-zrqGK"
      },
      "execution_count": 21,
      "outputs": []
    },
    {
      "cell_type": "code",
      "source": [
        "destination_dir_train_2='/content/main_data/train/MM'\n",
        "destination_dir_test_2='/content/main_data/test/MM'\n",
        "destination_dir_val_2='/content/main_data/val/MM'"
      ],
      "metadata": {
        "id": "btMMRBhQrqL2"
      },
      "execution_count": 22,
      "outputs": []
    },
    {
      "cell_type": "code",
      "source": [
        "for i in range(a):\n",
        "  current_1=train_sam_1[i]\n",
        "  shutil.copy(current_1,destination_dir_train_1)\n",
        "for i in range(b):\n",
        "  current_2=test_sam_1[i]\n",
        "  shutil.copy(current_2,destination_dir_test_1)\n",
        "for i in range(c):\n",
        "  current_3=val_sam_1[i]\n",
        "  shutil.copy(current_3,destination_dir_val_1)"
      ],
      "metadata": {
        "id": "6N2Gv7R_rqSE"
      },
      "execution_count": 23,
      "outputs": []
    },
    {
      "cell_type": "code",
      "source": [
        "for i in range(d):\n",
        "  current_4=train_sam_2[i]\n",
        "  shutil.copy(current_4,destination_dir_train_2)\n",
        "for i in range(e):\n",
        "  current_5=test_sam_2[i]\n",
        "  shutil.copy(current_5,destination_dir_test_2)\n",
        "for i in range(f):\n",
        "  current_6=val_sam_2[i]\n",
        "  shutil.copy(current_6,destination_dir_val_2)"
      ],
      "metadata": {
        "id": "XS4v-kdvrqYk"
      },
      "execution_count": 24,
      "outputs": []
    },
    {
      "cell_type": "code",
      "source": [
        "print(len(os.listdir(destination_dir_train_1)))\n",
        "print(len(os.listdir(destination_dir_test_1)))\n",
        "print(len(os.listdir(destination_dir_val_1)))"
      ],
      "metadata": {
        "colab": {
          "base_uri": "https://localhost:8080/"
        },
        "id": "V3TDOIaTr4ky",
        "outputId": "34cd5c18-4320-49d2-a5d2-c9805d712bdb"
      },
      "execution_count": 25,
      "outputs": [
        {
          "output_type": "stream",
          "name": "stdout",
          "text": [
            "133\n",
            "28\n",
            "28\n"
          ]
        }
      ]
    },
    {
      "cell_type": "code",
      "source": [
        "print(len(os.listdir(destination_dir_train_2)))\n",
        "print(len(os.listdir(destination_dir_test_2)))\n",
        "print(len(os.listdir(destination_dir_val_2)))"
      ],
      "metadata": {
        "colab": {
          "base_uri": "https://localhost:8080/"
        },
        "id": "vYhaVpCLr4rf",
        "outputId": "4cc8d9a8-421a-4f85-b681-5438a1cf8a14"
      },
      "execution_count": 26,
      "outputs": [
        {
          "output_type": "stream",
          "name": "stdout",
          "text": [
            "149\n",
            "32\n",
            "32\n"
          ]
        }
      ]
    },
    {
      "cell_type": "code",
      "source": [
        "import tensorflow.keras as K"
      ],
      "metadata": {
        "id": "4K_0EfRer4xX"
      },
      "execution_count": 27,
      "outputs": []
    },
    {
      "cell_type": "code",
      "source": [
        "input_image_shape=(224,224,3)\n",
        "train_batch_size=32"
      ],
      "metadata": {
        "id": "jLG1Db0Wr43S"
      },
      "execution_count": 28,
      "outputs": []
    },
    {
      "cell_type": "code",
      "source": [
        "train_datagen = ImageDataGenerator(rescale=1./255)\n",
        "\n",
        "train_datagen = ImageDataGenerator(rescale=1./255,\n",
        "                                        height_shift_range=0,\n",
        "                                        width_shift_range=0,\n",
        "                                        horizontal_flip=True,\n",
        "                                        zoom_range=0,\n",
        "                                        fill_mode=\"nearest\")\n",
        "\n",
        "\n",
        "val_datagen = ImageDataGenerator(rescale=1./255)\n",
        "\n",
        "test_datagen = ImageDataGenerator(rescale=1./255)\n",
        "\n",
        "train_generator = train_datagen.flow_from_directory(\n",
        "        '/content/main_data/train',\n",
        "        target_size=input_image_shape[:2],\n",
        "        color_mode=\"rgb\",\n",
        "        batch_size=train_batch_size,\n",
        "        class_mode='categorical',\n",
        "        shuffle=True,\n",
        "        seed=42)\n",
        "\n",
        "    # batch_size for validation and test generator should perfectly divide the total number of examples\n",
        "validation_generator = val_datagen.flow_from_directory(\n",
        "        '/content/main_data/val',\n",
        "        target_size=input_image_shape[:2],\n",
        "        color_mode=\"rgb\",\n",
        "        batch_size=100,\n",
        "        class_mode='categorical',\n",
        "        shuffle=True,\n",
        "        seed=42)\n",
        "\n",
        "test_generator = test_datagen.flow_from_directory(\n",
        "        '/content/main_data/test',\n",
        "        target_size=input_image_shape[:2],\n",
        "        color_mode=\"rgb\",\n",
        "        batch_size=100,\n",
        "        class_mode='categorical',\n",
        "        shuffle=False,\n",
        "        seed=42)\n",
        "    "
      ],
      "metadata": {
        "colab": {
          "base_uri": "https://localhost:8080/"
        },
        "id": "19Qg5Vmyr49i",
        "outputId": "16ce8db8-ba05-4bab-c5f9-9b532090bd26"
      },
      "execution_count": 29,
      "outputs": [
        {
          "output_type": "stream",
          "name": "stdout",
          "text": [
            "Found 282 images belonging to 2 classes.\n",
            "Found 60 images belonging to 2 classes.\n",
            "Found 60 images belonging to 2 classes.\n"
          ]
        }
      ]
    },
    {
      "cell_type": "code",
      "source": [
        "from tensorflow.keras.applications.vgg16 import VGG16\n",
        "\n",
        "base_model = VGG16(input_shape = (224, 224, 3), # Shape of our images\n",
        "include_top = False, # Leave out the last fully connected layer\n",
        "weights = 'imagenet')\n",
        "\n",
        "for layer in base_model.layers:\n",
        "    layer.trainable = False\n",
        "import tensorflow as tf\n",
        "\n",
        "from tensorflow.keras import layers\n",
        "\n",
        "x = layers.Flatten()(base_model.output)\n",
        "\n",
        "# Add a fully connected layer with 512 hidden units and ReLU activation\n",
        "x = layers.Dense(512, activation='relu')(x)\n",
        "\n",
        "# Add a dropout rate of 0.5\n",
        "x = layers.Dropout(0.5)(x)\n",
        "\n",
        "# Add a final sigmoid layer with 1 node for classification output\n",
        "x = layers.Dense(2, activation='sigmoid')(x)\n",
        "\n",
        "modelv16 = tf.keras.models.Model(base_model.input, x)\n",
        "\n",
        "modelv16.compile(optimizer = 'adam', loss = 'categorical_crossentropy',metrics = ['acc'])\n",
        "modelv16.summary()"
      ],
      "metadata": {
        "colab": {
          "base_uri": "https://localhost:8080/"
        },
        "id": "HWN1OeNKr5DJ",
        "outputId": "5941f29f-a5fd-4a9c-de02-375e20173ac3"
      },
      "execution_count": 30,
      "outputs": [
        {
          "output_type": "stream",
          "name": "stdout",
          "text": [
            "Downloading data from https://storage.googleapis.com/tensorflow/keras-applications/vgg16/vgg16_weights_tf_dim_ordering_tf_kernels_notop.h5\n",
            "58892288/58889256 [==============================] - 0s 0us/step\n",
            "58900480/58889256 [==============================] - 0s 0us/step\n",
            "Model: \"model\"\n",
            "_________________________________________________________________\n",
            " Layer (type)                Output Shape              Param #   \n",
            "=================================================================\n",
            " input_1 (InputLayer)        [(None, 224, 224, 3)]     0         \n",
            "                                                                 \n",
            " block1_conv1 (Conv2D)       (None, 224, 224, 64)      1792      \n",
            "                                                                 \n",
            " block1_conv2 (Conv2D)       (None, 224, 224, 64)      36928     \n",
            "                                                                 \n",
            " block1_pool (MaxPooling2D)  (None, 112, 112, 64)      0         \n",
            "                                                                 \n",
            " block2_conv1 (Conv2D)       (None, 112, 112, 128)     73856     \n",
            "                                                                 \n",
            " block2_conv2 (Conv2D)       (None, 112, 112, 128)     147584    \n",
            "                                                                 \n",
            " block2_pool (MaxPooling2D)  (None, 56, 56, 128)       0         \n",
            "                                                                 \n",
            " block3_conv1 (Conv2D)       (None, 56, 56, 256)       295168    \n",
            "                                                                 \n",
            " block3_conv2 (Conv2D)       (None, 56, 56, 256)       590080    \n",
            "                                                                 \n",
            " block3_conv3 (Conv2D)       (None, 56, 56, 256)       590080    \n",
            "                                                                 \n",
            " block3_pool (MaxPooling2D)  (None, 28, 28, 256)       0         \n",
            "                                                                 \n",
            " block4_conv1 (Conv2D)       (None, 28, 28, 512)       1180160   \n",
            "                                                                 \n",
            " block4_conv2 (Conv2D)       (None, 28, 28, 512)       2359808   \n",
            "                                                                 \n",
            " block4_conv3 (Conv2D)       (None, 28, 28, 512)       2359808   \n",
            "                                                                 \n",
            " block4_pool (MaxPooling2D)  (None, 14, 14, 512)       0         \n",
            "                                                                 \n",
            " block5_conv1 (Conv2D)       (None, 14, 14, 512)       2359808   \n",
            "                                                                 \n",
            " block5_conv2 (Conv2D)       (None, 14, 14, 512)       2359808   \n",
            "                                                                 \n",
            " block5_conv3 (Conv2D)       (None, 14, 14, 512)       2359808   \n",
            "                                                                 \n",
            " block5_pool (MaxPooling2D)  (None, 7, 7, 512)         0         \n",
            "                                                                 \n",
            " flatten (Flatten)           (None, 25088)             0         \n",
            "                                                                 \n",
            " dense (Dense)               (None, 512)               12845568  \n",
            "                                                                 \n",
            " dropout (Dropout)           (None, 512)               0         \n",
            "                                                                 \n",
            " dense_1 (Dense)             (None, 2)                 1026      \n",
            "                                                                 \n",
            "=================================================================\n",
            "Total params: 27,561,282\n",
            "Trainable params: 12,846,594\n",
            "Non-trainable params: 14,714,688\n",
            "_________________________________________________________________\n"
          ]
        }
      ]
    },
    {
      "cell_type": "code",
      "source": [
        "TRAIN_STEP_SIZE = train_generator.n//train_generator.batch_size\n",
        "VALIDATION_STEP_SIZE = validation_generator.n//validation_generator.batch_size"
      ],
      "metadata": {
        "id": "Nm0L80iqr5Me"
      },
      "execution_count": 31,
      "outputs": []
    },
    {
      "cell_type": "code",
      "source": [
        " # Early Stopping callback\n",
        "earlyStopping = EarlyStopping(monitor='val_accuracy', patience=10, verbose=0, mode='min')\n",
        "\n",
        "  # To save the model with best validation accuracy\n",
        "mc = ModelCheckpoint('best_model.h5', monitor='val_accuracy', mode='max', verbose=0, save_best_only=True)"
      ],
      "metadata": {
        "id": "l0VFXeVWr5R3"
      },
      "execution_count": 32,
      "outputs": []
    },
    {
      "cell_type": "code",
      "source": [
        "history = modelv16.fit(train_generator,\n",
        "                    steps_per_epoch = TRAIN_STEP_SIZE,\n",
        "                    validation_data = validation_generator,\n",
        "                    validation_steps = VALIDATION_STEP_SIZE,\n",
        "                    epochs=5, \n",
        "                    callbacks=[earlyStopping, mc],\n",
        "                    verbose=2)"
      ],
      "metadata": {
        "colab": {
          "base_uri": "https://localhost:8080/"
        },
        "id": "XboE3QLCsXdH",
        "outputId": "47b554ac-6eed-49b9-cbd0-cd896c8653bf"
      },
      "execution_count": 33,
      "outputs": [
        {
          "output_type": "stream",
          "name": "stdout",
          "text": [
            "Epoch 1/5\n",
            "WARNING:tensorflow:Early stopping conditioned on metric `val_accuracy` which is not available. Available metrics are: loss,acc\n",
            "WARNING:tensorflow:Can save best model only with val_accuracy available, skipping.\n",
            "8/8 - 138s - loss: 2.5444 - acc: 0.5520 - 138s/epoch - 17s/step\n",
            "Epoch 2/5\n",
            "WARNING:tensorflow:Early stopping conditioned on metric `val_accuracy` which is not available. Available metrics are: loss,acc\n",
            "WARNING:tensorflow:Can save best model only with val_accuracy available, skipping.\n",
            "8/8 - 132s - loss: 1.2494 - acc: 0.7120 - 132s/epoch - 17s/step\n",
            "Epoch 3/5\n",
            "WARNING:tensorflow:Early stopping conditioned on metric `val_accuracy` which is not available. Available metrics are: loss,acc\n",
            "WARNING:tensorflow:Can save best model only with val_accuracy available, skipping.\n",
            "8/8 - 134s - loss: 0.8778 - acc: 0.7040 - 134s/epoch - 17s/step\n",
            "Epoch 4/5\n",
            "WARNING:tensorflow:Early stopping conditioned on metric `val_accuracy` which is not available. Available metrics are: loss,acc\n",
            "WARNING:tensorflow:Can save best model only with val_accuracy available, skipping.\n",
            "8/8 - 132s - loss: 0.5253 - acc: 0.7760 - 132s/epoch - 16s/step\n",
            "Epoch 5/5\n",
            "WARNING:tensorflow:Early stopping conditioned on metric `val_accuracy` which is not available. Available metrics are: loss,acc\n",
            "WARNING:tensorflow:Can save best model only with val_accuracy available, skipping.\n",
            "8/8 - 131s - loss: 0.5135 - acc: 0.7640 - 131s/epoch - 16s/step\n"
          ]
        }
      ]
    },
    {
      "cell_type": "code",
      "source": [
        "pre_train_model = \"Xception\"#change here to change model for wandb sweeps\n",
        "activation_function_dense = \"relu\"#set as default"
      ],
      "metadata": {
        "id": "LXL2FPnLsXoj"
      },
      "execution_count": 34,
      "outputs": []
    },
    {
      "cell_type": "code",
      "source": [
        "pr=modelv16.evaluate(test_generator)"
      ],
      "metadata": {
        "colab": {
          "base_uri": "https://localhost:8080/"
        },
        "id": "lBqmtGImsXzx",
        "outputId": "8a40858a-a808-48a1-f44d-a74225ad12ee"
      },
      "execution_count": 35,
      "outputs": [
        {
          "output_type": "stream",
          "name": "stdout",
          "text": [
            "1/1 [==============================] - 36s 36s/step - loss: 0.0979 - acc: 0.9500\n"
          ]
        }
      ]
    },
    {
      "cell_type": "code",
      "source": [
        "print(pr)"
      ],
      "metadata": {
        "id": "rNUhZZ2xsiSk"
      },
      "execution_count": null,
      "outputs": []
    }
  ]
}